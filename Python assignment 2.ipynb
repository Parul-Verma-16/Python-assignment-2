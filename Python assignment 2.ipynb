{
 "cells": [
  {
   "cell_type": "markdown",
   "id": "7ad0d115",
   "metadata": {},
   "source": [
    "## 1) What are the two values of the Boolean data type? How do you write them?\n"
   ]
  },
  {
   "cell_type": "markdown",
   "id": "879fd8cf",
   "metadata": {},
   "source": [
    "The Boolean data type represents a logical value and has two possible values: true and false. In programming languages, these values are typically written as keywords or constants. The specific syntax can vary slightly depending on the programming language, but here are some common representations:\n",
    "\n",
    "true: This represents the logical value \"true\" or \"yes\" and indicates a positive or affirmative condition. In many programming languages, it is written as the keyword \"true\".\n",
    "\n",
    "false: This represents the logical value \"false\" or \"no\" and indicates a negative or negative condition. In many programming languages, it is written as the keyword \"false\".\n",
    "\n",
    "For example, in Python:\n",
    "x = True\n",
    "y = False"
   ]
  },
  {
   "cell_type": "markdown",
   "id": "5959bfc3",
   "metadata": {},
   "source": [
    "## 2) What are the three different types of Boolean operators?"
   ]
  },
  {
   "cell_type": "markdown",
   "id": "3f79eb54",
   "metadata": {},
   "source": [
    "The three different types of Boolean operators are:\n",
    "\n",
    "AND Operator: The AND operator is denoted by the symbol \"&&\" (double ampersand). It returns true if both operands are true; otherwise, it returns false. It can be thought of as a logical conjunction. Here's an example:\n",
    "\n",
    "x = True\n",
    "y = False\n",
    "result = x and y\n",
    "print(result)  \n",
    "Output: False\n",
    "\n",
    "OR Operator: The OR operator is denoted by the symbol \"||\" (double pipe). It returns true if at least one of the operands is true; otherwise, it returns false. It can be thought of as a logical disjunction. Here's an example:\n",
    "\n",
    "x = True\n",
    "y = False\n",
    "result = x or y\n",
    "print(result)  \n",
    "Output: True\n",
    "\n",
    "NOT Operator: The NOT operator is denoted by the symbol \"!\" (exclamation mark). It reverses the logical state of its operand. If the operand is true, it returns false, and if the operand is false, it returns true. It can be thought of as a logical negation. Here's an example:\n",
    "\n",
    "x = True\n",
    "result = not x\n",
    "print(result)  \n",
    "Output: False"
   ]
  },
  {
   "cell_type": "markdown",
   "id": "e2778a75",
   "metadata": {},
   "source": [
    "## 3) Make a list of each Boolean operator's truth tables (i.e. every possible combination of Boolean values for the operator and what it evaluate )."
   ]
  },
  {
   "cell_type": "markdown",
   "id": "c9fb19c3",
   "metadata": {},
   "source": [
    "Here are the truth tables for each Boolean operator:\n",
    "\n",
    "AND Operator (&&):\n",
    "1) true + true = true\n",
    "2) true + false = false\n",
    "3) false + true =false \n",
    "4) false + false = false\n",
    "\n",
    "OR Operator (||):\n",
    "1) true + true = true\n",
    "2) true + false = true\n",
    "3) false + true = true\n",
    "4) false + false = false\n",
    "\n",
    "NOT Operator (!):\n",
    "1) true = false\n",
    "2) false = true\n",
    "\n",
    "These truth tables show all possible combinations of Boolean values for the respective operators and the resulting Boolean evaluation."
   ]
  },
  {
   "cell_type": "markdown",
   "id": "18dcd6f5",
   "metadata": {},
   "source": [
    "## 4) What are the values of the following expressions?\n",
    "## (5 > 4) and (3 == 5)\n",
    "## not (5 > 4)\n",
    "## (5 > 4) or (3 == 5)\n",
    "## not ((5 > 4) or (3 == 5))\n",
    "## (True and True) and (True == False)\n",
    "## (not False) or (not True)"
   ]
  },
  {
   "cell_type": "markdown",
   "id": "1f6e8358",
   "metadata": {},
   "source": [
    "(5 > 4) and (3 == 5) => false\n",
    "\n",
    "not (5 > 4) => false\n",
    "\n",
    "(5 > 4) or (3 == 5) => true\n",
    "\n",
    "not ((5 > 4) or (3 == 5)) => false\n",
    "\n",
    "(True and True) and (True == False) => false\n",
    "\n",
    "(not False) or (not True) => true"
   ]
  },
  {
   "cell_type": "markdown",
   "id": "c7123ffb",
   "metadata": {},
   "source": [
    "## 5) What are the six comparison operators?"
   ]
  },
  {
   "cell_type": "markdown",
   "id": "fa16c1e2",
   "metadata": {},
   "source": [
    "The six comparison operators in most programming languages are:\n",
    "\n",
    "1) Equal to (==): This operator checks if two values are equal to each other.\n",
    "\n",
    "2) Not equal to (!=): This operator checks if two values are not equal to each other.\n",
    "\n",
    "3) Greater than (>): This operator checks if the value on the left is greater than the value on the right.\n",
    "\n",
    "4) Less than (<): This operator checks if the value on the left is less than the value on the right.\n",
    "\n",
    "5) Greater than or equal to (>=): This operator checks if the value on the left is greater than or equal to the value on the right.\n",
    "\n",
    "6) Less than or equal to (<=): This operator checks if the value on the left is less than or equal to the value on the right.\n",
    "\n",
    "These operators are commonly used in conditional statements and loops to compare values and make decisions based on the comparison results."
   ]
  },
  {
   "cell_type": "markdown",
   "id": "be766863",
   "metadata": {},
   "source": [
    "## 6) How do you tell the difference between the equal to and assignment operators?Describe a condition and when you would use one."
   ]
  },
  {
   "cell_type": "markdown",
   "id": "6c35f677",
   "metadata": {},
   "source": [
    "Equal to (==) operator: This operator is used for comparison. It checks whether two values are equal to each other. It returns a Boolean value (true or false) based on the comparison result.\n",
    "\n",
    "Example:\n",
    "int x = 5;\n",
    "int y = 10;\n",
    "if (x == y) {\n",
    "    // Executes if x is equal to y\n",
    "}\n",
    "\n",
    "In the example above, the condition x == y checks if the value of x is equal to the value of y. If the condition is true, the code block within the if statement will be executed.\n",
    "\n",
    "Assignment (=) operator: This operator is used for assignment. It assigns a value to a variable or a data structure.\n",
    "\n",
    "Example:\n",
    "int x;\n",
    "x = 5;\n",
    "\n",
    "In the example above, the assignment operator = is used to assign the value 5 to the variable x. It sets the value of x to 5."
   ]
  },
  {
   "cell_type": "markdown",
   "id": "48a0d214",
   "metadata": {},
   "source": [
    "## 7) Identify the three blocks in this code: \n",
    "## spam = 0  if spam == 10:  print('eggs')  if spam > 5:  print('bacon')  else: print('ham') print('spam') print('spam')"
   ]
  },
  {
   "cell_type": "markdown",
   "id": "f3400b59",
   "metadata": {},
   "source": [
    "Block 1:\n",
    "if spam == 10:\n",
    "    print('eggs')\n",
    "This block consists of the if statement and the subsequent print statement. It executes the print('eggs') statement only if the condition spam == 10 is true.\n",
    "\n",
    "Block 2:\n",
    "if spam > 5:\n",
    "    print('bacon')\n",
    "This block consists of another if statement and the corresponding print statement. It executes the print('bacon') statement only if the condition spam > 5 is true.\n",
    "\n",
    "Block 3:\n",
    "else:\n",
    "    print('ham')\n",
    "This block is the else block associated with the previous if statement. It executes the print('ham') statement only if the condition spam > 5 in the previous if statement is false."
   ]
  },
  {
   "cell_type": "markdown",
   "id": "9338d9d4",
   "metadata": {},
   "source": [
    "## 8) Write code that prints Hello if 1 is stored in spam, prints Howdy if 2 is stored in spam, and prints Greetings! if anything else is stored in spam."
   ]
  },
  {
   "cell_type": "markdown",
   "id": "9729a0ba",
   "metadata": {},
   "source": [
    "spam = 1\n",
    "\n",
    "if spam == 1:\n",
    "    print('Hello')\n",
    "    \n",
    "elif spam == 2:\n",
    "    print('Howdy')\n",
    "    \n",
    "else:\n",
    "    print('Greetings!')\n"
   ]
  },
  {
   "cell_type": "markdown",
   "id": "b4743d85",
   "metadata": {},
   "source": [
    "## 9) If your programme is stuck in an endless loop, what keys you’ll press?"
   ]
  },
  {
   "cell_type": "markdown",
   "id": "43af6478",
   "metadata": {},
   "source": [
    "If my program is stuck in an endless loop and I want to interrupt its execution, I can typically press the following key combination depending on the operating system:\n",
    "\n",
    "Windows/Linux: Ctrl + C\n",
    "Mac: Command + . (period)\n",
    "\n",
    "Pressing these key combinations sends an interrupt signal to the running program, causing it to terminate abruptly. It helps break out of the infinite loop and regain control."
   ]
  },
  {
   "cell_type": "markdown",
   "id": "7f1fa919",
   "metadata": {},
   "source": [
    "## 10) How can you tell the difference between break and continue?"
   ]
  },
  {
   "cell_type": "markdown",
   "id": "caf90d58",
   "metadata": {},
   "source": [
    "Both break and continue are control flow keywords used in loops (such as for or while) to alter the flow of execution. Here's how they differ:\n",
    "\n",
    "break: When encountered within a loop, the break statement immediately terminates the loop's execution and transfers control to the next statement after the loop. \n",
    "\n",
    "Example:\n",
    "for i in range(5):\n",
    "    if i == 3:\n",
    "        break\n",
    "    print(i)\n",
    "    \n",
    "Output:\n",
    "0\n",
    "1\n",
    "2\n",
    "\n",
    "In the above example, when i becomes 3, the break statement is encountered, causing the loop to terminate. As a result, only the numbers 0, 1, and 2 are printed.\n",
    "\n",
    "continue: When encountered within a loop, the continue statement immediately stops the current iteration of the loop and proceeds to the next iteration, skipping the remaining code within the loop for that iteration. \n",
    "\n",
    "Example:\n",
    "for i in range(5):\n",
    "    if i == 2:\n",
    "        continue\n",
    "    print(i)\n",
    "    \n",
    "Output:\n",
    "0\n",
    "1\n",
    "3\n",
    "4\n",
    "\n",
    "In the above example, when i becomes 2, the continue statement is encountered, causing the loop to skip the remaining code for that iteration. As a result, the number 2 is not printed, and the loop continues with the next iteration."
   ]
  },
  {
   "cell_type": "markdown",
   "id": "755ed976",
   "metadata": {},
   "source": [
    "## 11) In a for loop, what is the difference between range(10), range(0, 10), and range(0, 10, 1)?"
   ]
  },
  {
   "cell_type": "markdown",
   "id": "c9261ba7",
   "metadata": {},
   "source": [
    "In a for loop, the expressions range(10), range(0, 10), and range(0, 10, 1) produce the same sequence of numbers. However, they differ in their syntax and arguments. \n",
    "\n",
    "range(10): This form of range specifies the stop value of the sequence. It generates numbers starting from 0 and up to (but not including) the specified stop value. In this case, the sequence will be 0, 1, 2, 3, 4, 5, 6, 7, 8, and 9.\n",
    "\n",
    "Example:\n",
    "for i in range(10):\n",
    "    print(i)\n",
    "    \n",
    "Output:\n",
    "0\n",
    "1\n",
    "2\n",
    "3\n",
    "4\n",
    "5\n",
    "6\n",
    "7\n",
    "8\n",
    "9\n",
    "\n",
    "range(0, 10): This form of range includes both the start and stop values. It generates numbers starting from the specified start value (0 in this case) and up to (but not including) the specified stop value (10 in this case). The sequence will be the same as the previous example: 0, 1, 2, 3, 4, 5, 6, 7, 8, and 9.\n",
    "\n",
    "Example:\n",
    "for i in range(0, 10):\n",
    "    print(i)\n",
    "    \n",
    "Output:\n",
    "0\n",
    "1\n",
    "2\n",
    "3\n",
    "4\n",
    "5\n",
    "6\n",
    "7\n",
    "8\n",
    "9\n",
    "\n",
    "range(0, 10, 1): This form of range includes the start, stop, and step values. It generates numbers starting from the specified start value (0 in this case), incrementing by the specified step value (1 in this case), and stopping before the specified stop value (10 in this case). Since the step value is 1, the sequence will be the same as the previous examples: 0, 1, 2, 3, 4, 5, 6, 7, 8, and 9.\n",
    "\n",
    "Example:\n",
    "for i in range(0, 10, 1):\n",
    "    print(i)\n",
    "    \n",
    "Output:\n",
    "0\n",
    "1\n",
    "2\n",
    "3\n",
    "4\n",
    "5\n",
    "6\n",
    "7\n",
    "8\n",
    "9\n"
   ]
  },
  {
   "cell_type": "markdown",
   "id": "777e7e33",
   "metadata": {},
   "source": [
    "## 12) Write a short program that prints the numbers 1 to 10 using a for loop. Then write an equivalent program that prints the numbers 1 to 10 using a while loop."
   ]
  },
  {
   "cell_type": "markdown",
   "id": "72e24670",
   "metadata": {},
   "source": [
    "Here's a short program that prints the numbers 1 to 10 using a for loop:\n",
    "\n",
    "for i in range(1, 11):\n",
    "    print(i)\n",
    "    \n",
    "Output:\n",
    "1\n",
    "2\n",
    "3\n",
    "4\n",
    "5\n",
    "6\n",
    "7\n",
    "8\n",
    "9\n",
    "10\n",
    "\n",
    "And here's an equivalent program that achieves the same result using a while loop:\n",
    "\n",
    "i = 1\n",
    "while i <= 10:\n",
    "    print(i)\n",
    "    i += 1\n",
    "    \n",
    "Output:\n",
    "1\n",
    "2\n",
    "3\n",
    "4\n",
    "5\n",
    "6\n",
    "7\n",
    "8\n",
    "9\n",
    "10"
   ]
  },
  {
   "cell_type": "markdown",
   "id": "e9ab8b0e",
   "metadata": {},
   "source": [
    "## 13) If you had a function named bacon() inside a module named spam, how would you call it after importing spam?"
   ]
  },
  {
   "cell_type": "markdown",
   "id": "5f7188aa",
   "metadata": {},
   "source": [
    "import spam\n",
    "\n",
    "spam.bacon()\n",
    "\n",
    "In the above code, spam is the name of the imported module, and bacon() is the name of the function within that module. By prefixing the function name with the module name and a dot (spam.bacon()), we can call the bacon() function from the spam module."
   ]
  }
 ],
 "metadata": {
  "kernelspec": {
   "display_name": "Python 3 (ipykernel)",
   "language": "python",
   "name": "python3"
  },
  "language_info": {
   "codemirror_mode": {
    "name": "ipython",
    "version": 3
   },
   "file_extension": ".py",
   "mimetype": "text/x-python",
   "name": "python",
   "nbconvert_exporter": "python",
   "pygments_lexer": "ipython3",
   "version": "3.9.13"
  }
 },
 "nbformat": 4,
 "nbformat_minor": 5
}
